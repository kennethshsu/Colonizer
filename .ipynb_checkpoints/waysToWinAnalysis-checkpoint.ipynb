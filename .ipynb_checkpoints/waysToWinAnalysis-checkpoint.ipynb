{
 "cells": [
  {
   "cell_type": "code",
   "execution_count": 2,
   "metadata": {},
   "outputs": [],
   "source": [
    "import numpy as np\n",
    "import os\n",
    "from tkinter import *\n",
    "from PIL import Image, ImageTk"
   ]
  },
  {
   "cell_type": "code",
   "execution_count": 3,
   "metadata": {},
   "outputs": [
    {
     "data": {
      "text/plain": [
       "114"
      ]
     },
     "execution_count": 3,
     "metadata": {},
     "output_type": "execute_result"
    }
   ],
   "source": [
    "# Ways to win\n",
    "waysToWin = 0\n",
    "winScenario = []\n",
    "\n",
    "for longestRoad in range(1 + 1):\n",
    "    for largestArmy in range(1 + 1):\n",
    "        for victoryPoint in range(5 + 1):\n",
    "            for settlement in range(4 + 1):\n",
    "                for city in range(settlement + 1):\n",
    "                    for newSettlement in range(city + 1):\n",
    "\n",
    "                        totalScore = settlement + city + newSettlement + victoryPoint + longestRoad * 2 + largestArmy * 2\n",
    "                        if (totalScore >= 10 and totalScore <= 11):\n",
    "                            waysToWin += 1 \n",
    "#                             print('ways to win: #', waysToWin, 'score:', totalScore)\n",
    "#                             print(\n",
    "#                                 'victory point:', victoryPoint,\n",
    "#                                 'longest road:', longestRoad*2,\n",
    "#                                 'largest army:', largestArmy*2,\n",
    "#                                 'settlement:', settlement - city + newSettlement, \n",
    "#                                 'city:', city\n",
    "#                             )\n",
    "                            winScenarioText = str(\n",
    "                                    victoryPoint*10000 \n",
    "                                    + longestRoad*2*1000 \n",
    "                                    + largestArmy*2*100 \n",
    "                                    + (settlement - city + newSettlement)*10 \n",
    "                                    + city\n",
    "                                ).zfill(5)\n",
    "                            winScenario.append(winScenarioText)\n",
    "# Remove duplicated scenarios                     \n",
    "winScenario = list(dict.fromkeys(winScenario))\n",
    "winScenario\n",
    "len(winScenario) # 114 \"normal\" ways to win\n",
    "\n",
    "\n"
   ]
  }
 ],
 "metadata": {
  "kernelspec": {
   "display_name": "Python 3",
   "language": "python",
   "name": "python3"
  },
  "language_info": {
   "codemirror_mode": {
    "name": "ipython",
    "version": 3
   },
   "file_extension": ".py",
   "mimetype": "text/x-python",
   "name": "python",
   "nbconvert_exporter": "python",
   "pygments_lexer": "ipython3",
   "version": "3.8.5"
  }
 },
 "nbformat": 4,
 "nbformat_minor": 4
}
