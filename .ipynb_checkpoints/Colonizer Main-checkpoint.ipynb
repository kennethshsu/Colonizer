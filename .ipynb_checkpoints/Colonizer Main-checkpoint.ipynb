{
 "cells": [
  {
   "cell_type": "code",
   "execution_count": 1,
   "metadata": {},
   "outputs": [],
   "source": [
    "import numpy as np\n",
    "import os\n",
    "from tkinter import *\n",
    "from PIL import Image, ImageTk"
   ]
  },
  {
   "cell_type": "code",
   "execution_count": 2,
   "metadata": {},
   "outputs": [],
   "source": [
    "class colonizer():\n",
    "    def __init__(self):\n",
    "        self.window = Tk()\n",
    "        self.window.title('Colonizer')\n",
    "        self.canvas = Canvas(self.window, width = 1000, height = 1000)\n",
    "        self.canvas.pack()\n",
    "            \n",
    "    def boardsetup(self):\n",
    "        def loadHex(xHexOffset, yHexOffset, fillColor):\n",
    "            xBoardCenter = 450\n",
    "            yBoardCenter = 450\n",
    "            radius = 70\n",
    "#             gapSize = 2            \n",
    "            xHexCenter = xBoardCenter + np.sqrt(3)/2 * radius * xHexOffset\n",
    "            yHexCenter = yBoardCenter + 3/4 * radius * yHexOffset \n",
    "            points = [\n",
    "                xHexCenter + np.sqrt(3)/2*radius, yBoardCenter + 3/4 * radius * yHexOffset - radius/2,\n",
    "                xHexCenter + 0, yBoardCenter + 3/4 * radius * yHexOffset - radius,\n",
    "                xHexCenter - np.sqrt(3)/2*radius, yBoardCenter + 3/4 * radius * yHexOffset - radius/2,\n",
    "                xHexCenter - np.sqrt(3)/2*radius, yBoardCenter + 3/4 * radius * yHexOffset + radius/2,\n",
    "                xHexCenter + 0, yBoardCenter + 3/4 * radius * yHexOffset + radius,\n",
    "                xHexCenter + np.sqrt(3)/2*radius, yBoardCenter + 3/4 * radius * yHexOffset + radius/2]\n",
    "            self.canvas.create_polygon(points,\n",
    "                outline = '#0000FF',\n",
    "                fill = fillColor,\n",
    "                width = 2)\n",
    "            self.canvas.create_text(xHexCenter + xHexOffset, yBoardCenter + 3/4 * radius * yHexOffset, text = str(xHexOffset) + \"   \" + str(yHexOffset))\n",
    "            \n",
    "        \n",
    "        #// Setting up hex by hex\n",
    "        loadHex(-2, -4, '#FFFFFF')\n",
    "        loadHex(0, -4, '#FFFFFF')\n",
    "        loadHex(2, -4, '#FFFFFF')\n",
    "        \n",
    "        loadHex(-3, -2, '#FFFFFF')\n",
    "        loadHex(-1, -2, '#FFFFFF')\n",
    "        loadHex(1, -2, '#FFFFFF')\n",
    "        loadHex(3, -2, '#FFFFFF')\n",
    "        \n",
    "        loadHex(-4, 0, '#FFFFFF')\n",
    "        loadHex(-2, 0, '#FFFFFF')\n",
    "        loadHex(0, 0, '#FFFFFF')\n",
    "        loadHex(2, 0, '#FFFFFF')\n",
    "        loadHex(4, 0, '#FFFFFF')\n",
    "        \n",
    "        loadHex(-3, 2, '#FFFFFF')\n",
    "        loadHex(-1, 2, '#FFFFFF')\n",
    "        loadHex(1, 2, '#FFFFFF')\n",
    "        loadHex(3, 2, '#FFFFFF')\n",
    "        \n",
    "        loadHex(-2, 4, '#FFFFFF')\n",
    "        loadHex(0, 4, '#FFFFFF')\n",
    "        loadHex(2, 4, '#FFFFFF')\n",
    "        \n",
    "    def mainloop(self):\n",
    "        self.boardsetup()\n",
    "        self.window.mainloop()\n",
    "        \n",
    "game_instance = colonizer()\n",
    "game_instance.mainloop()\n",
    "#second commmit"
   ]
  },
  {
   "cell_type": "code",
   "execution_count": null,
   "metadata": {},
   "outputs": [],
   "source": []
  }
 ],
 "metadata": {
  "kernelspec": {
   "display_name": "Python 3",
   "language": "python",
   "name": "python3"
  },
  "language_info": {
   "codemirror_mode": {
    "name": "ipython",
    "version": 3
   },
   "file_extension": ".py",
   "mimetype": "text/x-python",
   "name": "python",
   "nbconvert_exporter": "python",
   "pygments_lexer": "ipython3",
   "version": "3.8.3"
  }
 },
 "nbformat": 4,
 "nbformat_minor": 4
}
